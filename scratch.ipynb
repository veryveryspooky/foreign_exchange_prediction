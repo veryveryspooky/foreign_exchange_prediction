{
 "cells": [
  {
   "cell_type": "code",
   "execution_count": 3,
   "metadata": {},
   "outputs": [],
   "source": [
    "import warnings\n",
    "import time\n",
    "import sys\n",
    "import numpy as np\n",
    "import matplotlib.pyplot as plt\n",
    "from hmmlearn import hmm\n",
    "import pandas as pd"
   ]
  },
  {
   "cell_type": "code",
   "execution_count": 4,
   "metadata": {},
   "outputs": [],
   "source": [
    "PLOT_SHOW=True\n",
    "PLOT_TYPE = False\n",
    "\n",
    "time_period = 100\n",
    "max_iter = 1e6\n",
    "\n",
    "labels = ['Close','Open','High','Low']\n",
    "\n",
    "\n",
    "def calc_mape(predicted_data, true_data):\n",
    "    return np.divide(np.sum(np.divide(np.absolute(predicted_data - true_data), true_data), 0), true_data.shape[0])"
   ]
  },
  {
   "cell_type": "code",
   "execution_count": 8,
   "metadata": {},
   "outputs": [],
   "source": [
    "dataset =  pd.read_excel('ExchangeRates.xlsx', sheet_name='usd-cad')[labels]\n",
    "dataset = np.array(dataset)"
   ]
  },
  {
   "cell_type": "code",
   "execution_count": 1,
   "metadata": {},
   "outputs": [],
   "source": [
    "def get_best_num_states(dataset, max_range = 15, time_period= 50, max_iter=1e6):\n",
    "    likelihoods = np.empty(13)\n",
    "    aics = np.empty(13)\n",
    "    bics = np.empty(13)\n",
    "\n",
    "    for num_states in range(2,max_range):\n",
    "        \n",
    "        num_params = num_states**2 + 2*num_states - 1\n",
    "        \n",
    "        model = hmm.GaussianHMM(n_components=num_states, covariance_type='full', tol=1e-6, n_iter=max_iter)\n",
    "        model.fit(dataset[100:,:])\n",
    "        \n",
    "        if model.monitor_.iter == max_iter:\n",
    "            print('max iterations reached. Error')\n",
    "            sys.exit(1)\n",
    "        \n",
    "        likelihoods[num_states-2] = model.score(dataset)\n",
    "        aics[num_states-2] = -2 * model.score(dataset) + 2 * num_params\n",
    "        bics[num_states-2] =  -2 * model.score(dataset) +  num_params * np.log(dataset.shape[0])\n",
    "\n",
    "    opt_states = np.argmin(bics) + 2\n",
    "\n",
    "    return opt_states"
   ]
  },
  {
   "cell_type": "code",
   "execution_count": 9,
   "metadata": {},
   "outputs": [
    {
     "name": "stdout",
     "output_type": "stream",
     "text": [
      "<class 'int'>\n"
     ]
    },
    {
     "ename": "TypeError",
     "evalue": "'float' object cannot be interpreted as an integer",
     "output_type": "error",
     "traceback": [
      "\u001b[0;31m---------------------------------------------------------------------------\u001b[0m",
      "\u001b[0;31mTypeError\u001b[0m                                 Traceback (most recent call last)",
      "\u001b[0;32m/var/folders/34/gh568vr946d45y78dns07shm0000gn/T/ipykernel_6856/460527776.py\u001b[0m in \u001b[0;36m<module>\u001b[0;34m\u001b[0m\n\u001b[1;32m      8\u001b[0m         \u001b[0mmodel\u001b[0m \u001b[0;34m=\u001b[0m \u001b[0mhmm\u001b[0m\u001b[0;34m.\u001b[0m\u001b[0mGaussianHMM\u001b[0m\u001b[0;34m(\u001b[0m\u001b[0mn_components\u001b[0m\u001b[0;34m=\u001b[0m\u001b[0mnum_states\u001b[0m\u001b[0;34m,\u001b[0m \u001b[0mcovariance_type\u001b[0m\u001b[0;34m=\u001b[0m\u001b[0;34m'full'\u001b[0m\u001b[0;34m,\u001b[0m \u001b[0mtol\u001b[0m\u001b[0;34m=\u001b[0m\u001b[0;36m0.0001\u001b[0m\u001b[0;34m,\u001b[0m \u001b[0mn_iter\u001b[0m\u001b[0;34m=\u001b[0m\u001b[0mmax_iter\u001b[0m\u001b[0;34m)\u001b[0m\u001b[0;34m\u001b[0m\u001b[0;34m\u001b[0m\u001b[0m\n\u001b[1;32m      9\u001b[0m         \u001b[0mprint\u001b[0m\u001b[0;34m(\u001b[0m\u001b[0mtype\u001b[0m\u001b[0;34m(\u001b[0m\u001b[0mtime_period\u001b[0m\u001b[0;34m)\u001b[0m\u001b[0;34m)\u001b[0m\u001b[0;34m\u001b[0m\u001b[0;34m\u001b[0m\u001b[0m\n\u001b[0;32m---> 10\u001b[0;31m         \u001b[0mmodel\u001b[0m\u001b[0;34m.\u001b[0m\u001b[0mfit\u001b[0m\u001b[0;34m(\u001b[0m\u001b[0mdataset\u001b[0m\u001b[0;34m[\u001b[0m\u001b[0mtime_period\u001b[0m\u001b[0;34m:\u001b[0m\u001b[0;34m,\u001b[0m\u001b[0;34m:\u001b[0m\u001b[0;34m]\u001b[0m\u001b[0;34m)\u001b[0m\u001b[0;34m\u001b[0m\u001b[0;34m\u001b[0m\u001b[0m\n\u001b[0m\u001b[1;32m     11\u001b[0m         \u001b[0;32mif\u001b[0m \u001b[0mmodel\u001b[0m\u001b[0;34m.\u001b[0m\u001b[0mmonitor_\u001b[0m\u001b[0;34m.\u001b[0m\u001b[0miter\u001b[0m \u001b[0;34m==\u001b[0m \u001b[0mtime_period\u001b[0m\u001b[0;34m:\u001b[0m\u001b[0;34m\u001b[0m\u001b[0;34m\u001b[0m\u001b[0m\n\u001b[1;32m     12\u001b[0m             \u001b[0mprint\u001b[0m\u001b[0;34m(\u001b[0m\u001b[0;34m'Increase number of iterations'\u001b[0m\u001b[0;34m)\u001b[0m\u001b[0;34m\u001b[0m\u001b[0;34m\u001b[0m\u001b[0m\n",
      "\u001b[0;32m/opt/homebrew/Caskroom/miniconda/base/envs/qcf/lib/python3.9/site-packages/hmmlearn/base.py\u001b[0m in \u001b[0;36mfit\u001b[0;34m(self, X, lengths)\u001b[0m\n\u001b[1;32m    501\u001b[0m             \u001b[0;34m\"log\"\u001b[0m\u001b[0;34m:\u001b[0m \u001b[0mself\u001b[0m\u001b[0;34m.\u001b[0m\u001b[0m_fit_log\u001b[0m\u001b[0;34m,\u001b[0m\u001b[0;34m\u001b[0m\u001b[0;34m\u001b[0m\u001b[0m\n\u001b[1;32m    502\u001b[0m         }[self.implementation]\n\u001b[0;32m--> 503\u001b[0;31m         \u001b[0;32mfor\u001b[0m \u001b[0miter\u001b[0m \u001b[0;32min\u001b[0m \u001b[0mrange\u001b[0m\u001b[0;34m(\u001b[0m\u001b[0mself\u001b[0m\u001b[0;34m.\u001b[0m\u001b[0mn_iter\u001b[0m\u001b[0;34m)\u001b[0m\u001b[0;34m:\u001b[0m\u001b[0;34m\u001b[0m\u001b[0;34m\u001b[0m\u001b[0m\n\u001b[0m\u001b[1;32m    504\u001b[0m             \u001b[0mstats\u001b[0m \u001b[0;34m=\u001b[0m \u001b[0mself\u001b[0m\u001b[0;34m.\u001b[0m\u001b[0m_initialize_sufficient_statistics\u001b[0m\u001b[0;34m(\u001b[0m\u001b[0;34m)\u001b[0m\u001b[0;34m\u001b[0m\u001b[0;34m\u001b[0m\u001b[0m\n\u001b[1;32m    505\u001b[0m             \u001b[0mcurr_log_prob\u001b[0m \u001b[0;34m=\u001b[0m \u001b[0;36m0\u001b[0m\u001b[0;34m\u001b[0m\u001b[0;34m\u001b[0m\u001b[0m\n",
      "\u001b[0;31mTypeError\u001b[0m: 'float' object cannot be interpreted as an integer"
     ]
    }
   ],
   "source": [
    "likelihoods = np.empty(13)\n",
    "aics = np.empty(13)\n",
    "bics = np.empty(13)\n",
    "\n",
    "for num_states in range(2,15):\n",
    "        num_params = num_states**2 + num_states\n",
    "        model = hmm.GaussianHMM(n_components=num_states, covariance_type='full', tol=0.0001, n_iter=max_iter)\n",
    "        model.fit(dataset[time_period:,:])\n",
    "        if model.monitor_.iter == time_period:\n",
    "            print('Increase number of iterations')\n",
    "            sys.exit(1)\n",
    "        likelihoods[num_states-2] = model.score(dataset)\n",
    "        aics[num_states-2] = -2 * model.score(dataset) + 2 * num_params\n",
    "        bics[num_states-2] =  -2 * model.score(dataset) +  num_params * np.log(dataset.shape[0])\n",
    "    \n",
    "opt_states = np.argmin(bics) + 2\n",
    "print('Optimum number of states are {}'.format(opt_states))"
   ]
  },
  {
   "cell_type": "code",
   "execution_count": null,
   "metadata": {},
   "outputs": [],
   "source": []
  },
  {
   "cell_type": "code",
   "execution_count": 27,
   "metadata": {},
   "outputs": [
    {
     "name": "stdout",
     "output_type": "stream",
     "text": [
      "Number of states is  13\n"
     ]
    }
   ],
   "source": [
    "predicted_stock_data = np.empty([0,dataset.shape[1]])\n"
   ]
  },
  {
   "cell_type": "code",
   "execution_count": null,
   "metadata": {},
   "outputs": [],
   "source": [
    "\n",
    "for idx in reversed(range(time_period)):\n",
    "    train_dataset = dataset[idx + 1:,:]\n",
    "    test_data = dataset[idx,:]; \n",
    "    num_examples = train_dataset.shape[0]\n",
    "    if idx == time_period - 1:\n",
    "        model = hmm.GaussianHMM(n_components=opt_states, covariance_type='full', tol=0.0001, n_iter=max_iter, init_params='stmc')\n",
    "    else:\n",
    "        # Retune the model by using the HMM paramters from the previous iterations as the prior\n",
    "        model = hmm.GaussianHMM(n_components=opt_states, covariance_type='full', tol=0.0001, n_iter=max_iter, init_params='')\n",
    "        model.transmat_ = transmat_retune_prior \n",
    "        model.startprob_ = startprob_retune_prior\n",
    "        model.means_ = means_retune_prior\n",
    "        model.covars_ = covars_retune_prior\n",
    "\n",
    "    model.fit(np.flipud(train_dataset))\n",
    "\n",
    "    transmat_retune_prior = model.transmat_\n",
    "    startprob_retune_prior = model.startprob_\n",
    "    means_retune_prior = model.means_\n",
    "    covars_retune_prior = model.covars_\n",
    "\n",
    "    if model.monitor_.iter == max_iter:\n",
    "        print('Increase number of iterations')\n",
    "        sys.exit(1)\n",
    "\n",
    "\n",
    "    iters = 1\n",
    "    past_likelihood = []\n",
    "    curr_likelihood = model.score(np.flipud(train_dataset[0:K - 1, :]))\n",
    "    while iters < num_examples / K - 1:\n",
    "        past_likelihood = np.append(past_likelihood, model.score(np.flipud(train_dataset[iters:iters + K - 1, :])))\n",
    "        iters = iters + 1\n",
    "    likelihood_diff_idx = np.argmin(np.absolute(past_likelihood - curr_likelihood))\n",
    "    predicted_change = train_dataset[likelihood_diff_idx,:] - train_dataset[likelihood_diff_idx + 1,:]\n",
    "    predicted_stock_data = np.vstack((predicted_stock_data, dataset[idx + 1,:] + predicted_change))\n",
    "\n",
    "\n",
    "mape = calc_mape(predicted_stock_data, np.flipud(dataset[range(100),:]))\n",
    "\n",
    "if PLOT_TYPE:\n",
    "    hdl_p = plt.plot(range(100), predicted_stock_data)\n",
    "    plt.title('Predicted stock prices')\n",
    "    plt.legend(iter(hdl_p), ('Close','Open','High','Low'))\n",
    "    plt.xlabel('Time steps')\n",
    "    plt.ylabel('Price')\n",
    "    plt.figure()\n",
    "    hdl_a = plt.plot(range(100),np.flipud(dataset[range(100),:]))\n",
    "    plt.title('Actual stock prices')\n",
    "    plt.legend(iter(hdl_p), ('Close','Open','High','Low'))\n",
    "    plt.xlabel('Time steps')\n",
    "    plt.ylabel('Price')\n",
    "else:\n",
    "    for i in range(4):\n",
    "        plt.figure()\n",
    "        plt.plot(range(100), predicted_stock_data[:,i],'k-', label = 'Predicted '+labels[i]+' price')\n",
    "        plt.plot(range(100),np.flipud(dataset[range(100),i]),'r--', label = 'Actual '+labels[i]+' price')\n",
    "        plt.xlabel('Time steps')\n",
    "        plt.ylabel('Price')\n",
    "        # plt.title(labels[i]+' price'+ ' for '+stock[:-4])\n",
    "        plt.grid(True)\n",
    "        plt.legend(loc = 'upper left')\n",
    "    "
   ]
  },
  {
   "cell_type": "code",
   "execution_count": null,
   "metadata": {},
   "outputs": [],
   "source": []
  }
 ],
 "metadata": {
  "interpreter": {
   "hash": "48a2327c44ffb9a72cf89db1037efed23f579a37346c6adecb7528251a1c2964"
  },
  "kernelspec": {
   "display_name": "Python 3.9.7 ('qcf')",
   "language": "python",
   "name": "python3"
  },
  "language_info": {
   "codemirror_mode": {
    "name": "ipython",
    "version": 3
   },
   "file_extension": ".py",
   "mimetype": "text/x-python",
   "name": "python",
   "nbconvert_exporter": "python",
   "pygments_lexer": "ipython3",
   "version": "3.9.7"
  },
  "orig_nbformat": 4
 },
 "nbformat": 4,
 "nbformat_minor": 2
}
